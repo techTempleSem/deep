{
 "cells": [
  {
   "cell_type": "code",
   "execution_count": 1,
   "metadata": {},
   "outputs": [],
   "source": [
    "import os\n",
    "os.environ['KMP_DUPLICATE_LIB_OK']='True'\n",
    "os.environ[\"CUDA_DEVICE_ORDER\"]=\"PCI_BUS_ID\"  # Arrange GPU devices starting from 0\n",
    "os.environ[\"CUDA_VISIBLE_DEVICES\"]= \"0\"  # Set the GPU 2 to use"
   ]
  },
  {
   "cell_type": "code",
   "execution_count": 2,
   "metadata": {},
   "outputs": [
    {
     "name": "stderr",
     "output_type": "stream",
     "text": [
      "2024-07-05 11:39:10.837873: I tensorflow/core/util/port.cc:111] oneDNN custom operations are on. You may see slightly different numerical results due to floating-point round-off errors from different computation orders. To turn them off, set the environment variable `TF_ENABLE_ONEDNN_OPTS=0`.\n",
      "2024-07-05 11:39:10.975416: E tensorflow/compiler/xla/stream_executor/cuda/cuda_dnn.cc:9342] Unable to register cuDNN factory: Attempting to register factory for plugin cuDNN when one has already been registered\n",
      "2024-07-05 11:39:10.975475: E tensorflow/compiler/xla/stream_executor/cuda/cuda_fft.cc:609] Unable to register cuFFT factory: Attempting to register factory for plugin cuFFT when one has already been registered\n",
      "2024-07-05 11:39:10.975586: E tensorflow/compiler/xla/stream_executor/cuda/cuda_blas.cc:1518] Unable to register cuBLAS factory: Attempting to register factory for plugin cuBLAS when one has already been registered\n",
      "2024-07-05 11:39:11.039152: I tensorflow/core/platform/cpu_feature_guard.cc:182] This TensorFlow binary is optimized to use available CPU instructions in performance-critical operations.\n",
      "To enable the following instructions: AVX2 AVX_VNNI FMA, in other operations, rebuild TensorFlow with the appropriate compiler flags.\n",
      "2024-07-05 11:39:12.128265: W tensorflow/compiler/tf2tensorrt/utils/py_utils.cc:38] TF-TRT Warning: Could not find TensorRT\n"
     ]
    },
    {
     "name": "stdout",
     "output_type": "stream",
     "text": [
      "Num GPUs Available:  1\n"
     ]
    },
    {
     "name": "stderr",
     "output_type": "stream",
     "text": [
      "2024-07-05 11:39:13.758294: I tensorflow/compiler/xla/stream_executor/cuda/cuda_gpu_executor.cc:880] could not open file to read NUMA node: /sys/bus/pci/devices/0000:01:00.0/numa_node\n",
      "Your kernel may have been built without NUMA support.\n",
      "2024-07-05 11:39:13.905237: I tensorflow/compiler/xla/stream_executor/cuda/cuda_gpu_executor.cc:880] could not open file to read NUMA node: /sys/bus/pci/devices/0000:01:00.0/numa_node\n",
      "Your kernel may have been built without NUMA support.\n",
      "2024-07-05 11:39:13.905506: I tensorflow/compiler/xla/stream_executor/cuda/cuda_gpu_executor.cc:880] could not open file to read NUMA node: /sys/bus/pci/devices/0000:01:00.0/numa_node\n",
      "Your kernel may have been built without NUMA support.\n"
     ]
    },
    {
     "data": {
      "text/plain": [
       "[PhysicalDevice(name='/physical_device:GPU:0', device_type='GPU')]"
      ]
     },
     "execution_count": 2,
     "metadata": {},
     "output_type": "execute_result"
    }
   ],
   "source": [
    "import tensorflow as tf\n",
    "print(\"Num GPUs Available: \", len(tf.config.experimental.list_physical_devices('GPU')))\n",
    "tf.config.list_physical_devices('GPU')\n",
    "# tf.debugging.set_log_device_placement(False)"
   ]
  },
  {
   "cell_type": "code",
   "execution_count": 3,
   "metadata": {},
   "outputs": [],
   "source": [
    "import numpy as np\n",
    "from keras.utils import Sequence\n",
    "import os\n",
    "import random\n",
    "import ecdsa\n",
    "import sha3\n",
    "import matplotlib.pyplot as plt"
   ]
  },
  {
   "cell_type": "code",
   "execution_count": 4,
   "metadata": {},
   "outputs": [
    {
     "name": "stdout",
     "output_type": "stream",
     "text": [
      "Private Key: 0000000000000000000000000333885fa2fea99a9c720e77b7da7e3ebe2a9a58\n",
      "Public Key: 046e12973d5aae936764d876f81b7b6b13032c8c3001b072690d1386dfb0f93cbbf21ef7a79a704bde6d6a828bccfe30d03236fd364c6320b3eb4609fe193e16bd\n",
      "Address: 0x208bd6b033273034681f774580389921d8b428f4\n"
     ]
    }
   ],
   "source": [
    "def private_key_to_public_key(private_key_hex):\n",
    "    private_key_bytes = bytes.fromhex(private_key_hex)\n",
    "    sk = ecdsa.SigningKey.from_string(private_key_bytes, curve=ecdsa.SECP256k1)\n",
    "    vk = sk.verifying_key\n",
    "    public_key_bytes = b'\\x04' + vk.to_string()  # Add the constant prefix 0x04\n",
    "    return public_key_bytes.hex()\n",
    "\n",
    "def public_key_to_address(public_key_hex):\n",
    "    public_key_bytes = bytes.fromhex(public_key_hex)\n",
    "    keccak = sha3.keccak_256()\n",
    "    keccak.update(public_key_bytes[1:])  # Remove the prefix 0x04\n",
    "    return '0x' + keccak.hexdigest()[24:]  # Last 20 bytes (40 hex characters)\n",
    "\n",
    "def main():\n",
    "    private_key = \"0000000000000000000000000333885fa2fea99a9c720e77b7da7e3ebe2a9a58\"  # Replace with your Ethereum private key\n",
    "    public_key = private_key_to_public_key(private_key)\n",
    "    address = public_key_to_address(public_key)\n",
    "    print(f\"Private Key: {private_key}\")\n",
    "    print(f\"Public Key: {public_key}\")\n",
    "    print(f\"Address: {address}\")\n",
    "\n",
    "main()"
   ]
  },
  {
   "cell_type": "code",
   "execution_count": 41,
   "metadata": {},
   "outputs": [
    {
     "name": "stdout",
     "output_type": "stream",
     "text": [
      "int64\n",
      "float64\n",
      "[ 1.  2.  3. 10. 10.]\n"
     ]
    }
   ],
   "source": [
    "tmp = np.array([1,2,3,4,5])\n",
    "print(tmp.dtype)\n",
    "tmp = tmp.astype(np.float64)\n",
    "print(tmp.dtype)\n",
    "tmp[tmp>3] = 10\n",
    "print(tmp)"
   ]
  },
  {
   "cell_type": "code",
   "execution_count": 48,
   "metadata": {},
   "outputs": [],
   "source": [
    "class CustomDataGenerator(Sequence):\n",
    "    def __init__(self, st, en, batch_size, shuffle=True):\n",
    "        self.st = st\n",
    "        self.en = en\n",
    "        self.total = en-st\n",
    "        self.batch_size = batch_size\n",
    "        self.shuffle = shuffle\n",
    "        self.on_epoch_end()\n",
    "\n",
    "    def __len__(self):\n",
    "        # 한 epoch 당 배치의 수를 반환합니다.\n",
    "        return int(np.floor(self.total / self.batch_size))\n",
    "\n",
    "    def __getitem__(self, index):\n",
    "        # 배치 단위로 데이터를 로드하고 반환합니다.\n",
    "        batch_indices = self.indices[index * self.batch_size:(index + 1) * self.batch_size]\n",
    "        batch_private = np.array([self.make_private(i) for i in batch_indices])\n",
    "        batch_public = np.array([self.make_public(i) for i in batch_private])\n",
    "        batch_private = batch_private.astype(np.float32)\n",
    "        batch_private[batch_private == 1] = 0.9\n",
    "        batch_private[batch_private == 0] = 0.1\n",
    "\n",
    "        return batch_public, batch_private\n",
    "    \n",
    "    def make_private(self, seed):\n",
    "        random.seed(seed)\n",
    "        key = []\n",
    "        for i in range(1,257):\n",
    "            if i <= 100:\n",
    "                key.append(0)\n",
    "            else:\n",
    "                key.append(random.randint(0,1))\n",
    "        return np.array(key)\n",
    "    \n",
    "    def make_public(self, key):\n",
    "        private=\"\"\n",
    "        for i in range(0,256,4):\n",
    "            tmp = key[i]*8+key[i+1]*4+key[i+2]*2+key[i+3]\n",
    "            if tmp<10 :\n",
    "                private+=str(tmp)\n",
    "            else:\n",
    "                private+=chr(tmp-10+97)\n",
    "\n",
    "        public = self.private_key_to_public_key(private)\n",
    "        address = self.public_key_to_address(public)\n",
    "        \n",
    "        public_list = []\n",
    "        for i in public:\n",
    "            val=ord(i)\n",
    "            if val>=48 and val<=57:\n",
    "                val-=48\n",
    "            else:\n",
    "                val=val-97+10\n",
    "            \n",
    "            public_list.append(val//8)\n",
    "            val%=8\n",
    "            public_list.append(val//4)\n",
    "            val%=4\n",
    "            public_list.append(val//2)\n",
    "            val%=2\n",
    "            public_list.append(val//1)\n",
    "            val%=1\n",
    "        \n",
    "        return np.array(public_list)\n",
    "    \n",
    "    def private_key_to_public_key(self, private_key_hex):\n",
    "        private_key_bytes = bytes.fromhex(private_key_hex)\n",
    "        sk = ecdsa.SigningKey.from_string(private_key_bytes, curve=ecdsa.SECP256k1)\n",
    "        vk = sk.verifying_key\n",
    "        public_key_bytes = b'\\x04' + vk.to_string()  # Add the constant prefix 0x04\n",
    "        return public_key_bytes.hex()\n",
    "\n",
    "    def public_key_to_address(self, public_key_hex):\n",
    "        public_key_bytes = bytes.fromhex(public_key_hex)\n",
    "        keccak = sha3.keccak_256()\n",
    "        keccak.update(public_key_bytes[1:])  # Remove the prefix 0x04\n",
    "        return '0x' + keccak.hexdigest()[24:]  # Last 20 bytes (40 hex characters)\n",
    "\n",
    "    def on_epoch_end(self):\n",
    "        # epoch이 끝날 때마다 데이터 인덱스를 셔플합니다.\n",
    "        self.indices = np.arange(self.st, self.en)\n",
    "        if self.shuffle:\n",
    "            np.random.shuffle(self.indices)\n"
   ]
  },
  {
   "cell_type": "code",
   "execution_count": 49,
   "metadata": {},
   "outputs": [
    {
     "name": "stdout",
     "output_type": "stream",
     "text": [
      "[0 0 0 0 0 0 0 0 0 0 0 0 0 0 0 0 0 0 0 0 0 0 0 0 0 0 0 0 0 0 0 0 0 0 0 0 0\n",
      " 0 0 0 0 0 0 0 0 0 0 0 0 0 0 0 0 0 0 0 0 0 0 0 0 0 0 0 0 0 0 0 0 0 0 0 0 0\n",
      " 0 0 0 0 0 0 0 0 0 0 0 0 0 0 0 0 0 0 0 0 0 0 0 0 0 0 0 0 1 1 0 0 1 1 0 0 1\n",
      " 1 1 0 0 0 1 0 0 0 0 1 0 1 1 1 1 1 1 0 1 0 0 0 1 0 1 1 1 1 1 1 1 0 1 0 1 0\n",
      " 1 0 0 1 1 0 0 1 1 0 1 0 1 0 0 1 1 1 0 0 0 1 1 1 0 0 1 0 0 0 0 0 1 1 1 0 0\n",
      " 1 1 1 0 1 1 1 1 0 1 1 0 1 1 1 1 1 0 1 1 0 1 0 0 1 1 1 1 1 1 0 0 0 1 1 1 1\n",
      " 1 0 1 0 1 1 1 1 1 0 0 0 1 0 1 0 1 0 1 0 0 1 1 0 1 0 0 1 0 1 1 0 0 0]\n",
      "0000000000000000000000000333885fa2fea99a9c720e77b7da7e3ebe2a9a58\n"
     ]
    }
   ],
   "source": [
    "random.seed(3)\n",
    "key = []\n",
    "for i in range(1,257):\n",
    "    if i <= 100:\n",
    "        key.append(0)\n",
    "    else:\n",
    "        key.append(random.randint(0,1))\n",
    "key = np.array(key)\n",
    "print(key)\n",
    "\n",
    "v=\"\"\n",
    "for i in range(0,256,4):\n",
    "    tmp = key[i]*8+key[i+1]*4+key[i+2]*2+key[i+3]\n",
    "    if tmp<10 :\n",
    "        v+=str(tmp)\n",
    "    else:\n",
    "        v+=chr(tmp-10+97)\n",
    "print(v)"
   ]
  },
  {
   "cell_type": "code",
   "execution_count": 57,
   "metadata": {},
   "outputs": [],
   "source": [
    "train_generator = CustomDataGenerator(0,100000, 1000, True)\n",
    "test_generator = CustomDataGenerator(100000,103000, 1000, True)"
   ]
  },
  {
   "cell_type": "code",
   "execution_count": 58,
   "metadata": {},
   "outputs": [
    {
     "name": "stderr",
     "output_type": "stream",
     "text": [
      "/tmp/ipykernel_129756/1696526052.py:26: DeprecationWarning: Seeding based on hashing is deprecated\n",
      "since Python 3.9 and will be removed in a subsequent version. The only \n",
      "supported seed types are: None, int, float, str, bytes, and bytearray.\n",
      "  random.seed(seed)\n"
     ]
    },
    {
     "name": "stdout",
     "output_type": "stream",
     "text": [
      "(1000, 520)\n",
      "[[0.1 0.1 0.1 ... 0.1 0.1 0.9]\n",
      " [0.1 0.1 0.1 ... 0.1 0.1 0.1]\n",
      " [0.1 0.1 0.1 ... 0.1 0.1 0.1]\n",
      " ...\n",
      " [0.1 0.1 0.1 ... 0.1 0.1 0.9]\n",
      " [0.1 0.1 0.1 ... 0.9 0.9 0.9]\n",
      " [0.1 0.1 0.1 ... 0.1 0.9 0.1]]\n"
     ]
    }
   ],
   "source": [
    "train, label = train_generator[0]\n",
    "print(train.shape)\n",
    "print(label)"
   ]
  },
  {
   "cell_type": "code",
   "execution_count": 59,
   "metadata": {},
   "outputs": [],
   "source": [
    "from keras.layers import Input, Dense, BatchNormalization\n",
    "from keras.models import Model\n",
    "\n",
    "input = Input(shape=(520,))\n",
    "d1 = Dense(750, activation=\"relu\")(input)\n",
    "b1 = BatchNormalization()(d1)\n",
    "d2 = Dense(1000, activation=\"relu\")(b1)\n",
    "b2 = BatchNormalization()(d2)\n",
    "d3 = Dense(700, activation=\"relu\")(b2)\n",
    "b3 = BatchNormalization()(d3)\n",
    "d4 = Dense(500, activation=\"relu\")(b3)\n",
    "b4 = BatchNormalization()(d4)\n",
    "d5 = Dense(350, activation=\"relu\")(b4)\n",
    "b5 = BatchNormalization()(d5)\n",
    "d6 = Dense(256, activation=\"sigmoid\")(b5)\n",
    "model = Model(input, d6)"
   ]
  },
  {
   "cell_type": "code",
   "execution_count": 60,
   "metadata": {},
   "outputs": [
    {
     "name": "stdout",
     "output_type": "stream",
     "text": [
      "Model: \"model_2\"\n",
      "_________________________________________________________________\n",
      " Layer (type)                Output Shape              Param #   \n",
      "=================================================================\n",
      " input_3 (InputLayer)        [(None, 520)]             0         \n",
      "                                                                 \n",
      " dense_16 (Dense)            (None, 750)               390750    \n",
      "                                                                 \n",
      " batch_normalization_14 (Ba  (None, 750)               3000      \n",
      " tchNormalization)                                               \n",
      "                                                                 \n",
      " dense_17 (Dense)            (None, 1000)              751000    \n",
      "                                                                 \n",
      " batch_normalization_15 (Ba  (None, 1000)              4000      \n",
      " tchNormalization)                                               \n",
      "                                                                 \n",
      " dense_18 (Dense)            (None, 700)               700700    \n",
      "                                                                 \n",
      " batch_normalization_16 (Ba  (None, 700)               2800      \n",
      " tchNormalization)                                               \n",
      "                                                                 \n",
      " dense_19 (Dense)            (None, 500)               350500    \n",
      "                                                                 \n",
      " batch_normalization_17 (Ba  (None, 500)               2000      \n",
      " tchNormalization)                                               \n",
      "                                                                 \n",
      " dense_20 (Dense)            (None, 350)               175350    \n",
      "                                                                 \n",
      " batch_normalization_18 (Ba  (None, 350)               1400      \n",
      " tchNormalization)                                               \n",
      "                                                                 \n",
      " dense_21 (Dense)            (None, 256)               89856     \n",
      "                                                                 \n",
      "=================================================================\n",
      "Total params: 2471356 (9.43 MB)\n",
      "Trainable params: 2464756 (9.40 MB)\n",
      "Non-trainable params: 6600 (25.78 KB)\n",
      "_________________________________________________________________\n"
     ]
    }
   ],
   "source": [
    "model.summary()"
   ]
  },
  {
   "cell_type": "code",
   "execution_count": 61,
   "metadata": {},
   "outputs": [],
   "source": [
    "model.compile(optimizer='adam', loss='binary_crossentropy', metrics=['accuracy'])"
   ]
  },
  {
   "cell_type": "code",
   "execution_count": 62,
   "metadata": {},
   "outputs": [
    {
     "name": "stderr",
     "output_type": "stream",
     "text": [
      "/tmp/ipykernel_129756/1696526052.py:26: DeprecationWarning: Seeding based on hashing is deprecated\n",
      "since Python 3.9 and will be removed in a subsequent version. The only \n",
      "supported seed types are: None, int, float, str, bytes, and bytearray.\n",
      "  random.seed(seed)\n"
     ]
    },
    {
     "name": "stdout",
     "output_type": "stream",
     "text": [
      "Epoch 1/40\n",
      "100/100 [==============================] - 49s 452ms/step - loss: 0.6358 - accuracy: 0.0045 - val_loss: 0.5515 - val_accuracy: 3.3333e-04\n",
      "Epoch 2/40\n",
      "100/100 [==============================] - 46s 455ms/step - loss: 0.5498 - accuracy: 0.0088 - val_loss: 0.5499 - val_accuracy: 0.0133\n",
      "Epoch 3/40\n",
      "100/100 [==============================] - 46s 462ms/step - loss: 0.5496 - accuracy: 0.0038 - val_loss: 0.5497 - val_accuracy: 3.3333e-04\n",
      "Epoch 4/40\n",
      "100/100 [==============================] - 46s 456ms/step - loss: 0.5494 - accuracy: 0.0202 - val_loss: 0.5497 - val_accuracy: 0.0013\n",
      "Epoch 5/40\n",
      "100/100 [==============================] - 44s 443ms/step - loss: 0.5490 - accuracy: 0.0074 - val_loss: 0.5500 - val_accuracy: 0.0053\n",
      "Epoch 6/40\n",
      "100/100 [==============================] - 44s 442ms/step - loss: 0.5485 - accuracy: 0.0074 - val_loss: 0.5503 - val_accuracy: 0.0013\n",
      "Epoch 7/40\n",
      "100/100 [==============================] - 45s 446ms/step - loss: 0.5477 - accuracy: 0.0057 - val_loss: 0.5513 - val_accuracy: 0.0050\n",
      "Epoch 8/40\n",
      "100/100 [==============================] - 45s 451ms/step - loss: 0.5469 - accuracy: 0.0060 - val_loss: 0.5521 - val_accuracy: 0.0030\n",
      "Epoch 9/40\n",
      "100/100 [==============================] - 45s 454ms/step - loss: 0.5458 - accuracy: 0.0065 - val_loss: 0.5540 - val_accuracy: 0.0043\n",
      "Epoch 10/40\n",
      "100/100 [==============================] - 45s 454ms/step - loss: 0.5447 - accuracy: 0.0066 - val_loss: 0.5552 - val_accuracy: 0.0047\n",
      "Epoch 11/40\n",
      "100/100 [==============================] - 46s 457ms/step - loss: 0.5434 - accuracy: 0.0063 - val_loss: 0.5572 - val_accuracy: 0.0057\n",
      "Epoch 12/40\n",
      "100/100 [==============================] - 46s 459ms/step - loss: 0.5421 - accuracy: 0.0059 - val_loss: 0.5591 - val_accuracy: 0.0037\n",
      "Epoch 13/40\n",
      "100/100 [==============================] - 47s 465ms/step - loss: 0.5407 - accuracy: 0.0060 - val_loss: 0.5600 - val_accuracy: 0.0050\n",
      "Epoch 14/40\n",
      "100/100 [==============================] - 46s 462ms/step - loss: 0.5392 - accuracy: 0.0066 - val_loss: 0.5616 - val_accuracy: 0.0030\n",
      "Epoch 15/40\n",
      "100/100 [==============================] - 47s 466ms/step - loss: 0.5377 - accuracy: 0.0066 - val_loss: 0.5650 - val_accuracy: 0.0053\n",
      "Epoch 16/40\n",
      "100/100 [==============================] - 46s 463ms/step - loss: 0.5362 - accuracy: 0.0066 - val_loss: 0.5666 - val_accuracy: 0.0017\n",
      "Epoch 17/40\n",
      "100/100 [==============================] - 46s 464ms/step - loss: 0.5346 - accuracy: 0.0066 - val_loss: 0.5676 - val_accuracy: 0.0043\n",
      "Epoch 18/40\n",
      "100/100 [==============================] - 47s 466ms/step - loss: 0.5332 - accuracy: 0.0073 - val_loss: 0.5688 - val_accuracy: 0.0027\n",
      "Epoch 19/40\n",
      "100/100 [==============================] - 47s 465ms/step - loss: 0.5317 - accuracy: 0.0075 - val_loss: 0.5724 - val_accuracy: 0.0040\n",
      "Epoch 20/40\n",
      "100/100 [==============================] - 47s 466ms/step - loss: 0.5302 - accuracy: 0.0077 - val_loss: 0.5739 - val_accuracy: 0.0057\n",
      "Epoch 21/40\n",
      "100/100 [==============================] - 47s 466ms/step - loss: 0.5289 - accuracy: 0.0078 - val_loss: 0.5734 - val_accuracy: 0.0040\n",
      "Epoch 22/40\n",
      "100/100 [==============================] - 46s 464ms/step - loss: 0.5276 - accuracy: 0.0078 - val_loss: 0.5766 - val_accuracy: 0.0043\n",
      "Epoch 23/40\n",
      "100/100 [==============================] - 47s 467ms/step - loss: 0.5263 - accuracy: 0.0080 - val_loss: 0.5772 - val_accuracy: 0.0053\n",
      "Epoch 24/40\n",
      "100/100 [==============================] - 48s 477ms/step - loss: 0.5251 - accuracy: 0.0083 - val_loss: 0.5808 - val_accuracy: 0.0043\n",
      "Epoch 25/40\n",
      "100/100 [==============================] - 48s 476ms/step - loss: 0.5239 - accuracy: 0.0077 - val_loss: 0.5798 - val_accuracy: 0.0027\n",
      "Epoch 26/40\n",
      "100/100 [==============================] - 47s 467ms/step - loss: 0.5228 - accuracy: 0.0088 - val_loss: 0.5833 - val_accuracy: 0.0050\n",
      "Epoch 27/40\n",
      "100/100 [==============================] - 47s 466ms/step - loss: 0.5217 - accuracy: 0.0087 - val_loss: 0.5844 - val_accuracy: 0.0020\n",
      "Epoch 28/40\n",
      "100/100 [==============================] - 45s 446ms/step - loss: 0.5206 - accuracy: 0.0086 - val_loss: 0.5854 - val_accuracy: 0.0053\n",
      "Epoch 29/40\n",
      "100/100 [==============================] - 45s 446ms/step - loss: 0.5196 - accuracy: 0.0088 - val_loss: 0.5856 - val_accuracy: 0.0030\n",
      "Epoch 30/40\n",
      "100/100 [==============================] - 45s 449ms/step - loss: 0.5187 - accuracy: 0.0085 - val_loss: 0.5873 - val_accuracy: 0.0033\n",
      "Epoch 31/40\n",
      "100/100 [==============================] - 45s 452ms/step - loss: 0.5177 - accuracy: 0.0091 - val_loss: 0.5882 - val_accuracy: 0.0067\n",
      "Epoch 32/40\n",
      "100/100 [==============================] - 45s 452ms/step - loss: 0.5169 - accuracy: 0.0094 - val_loss: 0.5912 - val_accuracy: 0.0043\n",
      "Epoch 33/40\n",
      "100/100 [==============================] - 46s 455ms/step - loss: 0.5160 - accuracy: 0.0095 - val_loss: 0.5931 - val_accuracy: 0.0050\n",
      "Epoch 34/40\n",
      "100/100 [==============================] - 45s 453ms/step - loss: 0.5152 - accuracy: 0.0097 - val_loss: 0.5915 - val_accuracy: 0.0050\n",
      "Epoch 35/40\n",
      "100/100 [==============================] - 46s 457ms/step - loss: 0.5145 - accuracy: 0.0103 - val_loss: 0.5950 - val_accuracy: 0.0043\n",
      "Epoch 36/40\n",
      "100/100 [==============================] - 46s 460ms/step - loss: 0.5137 - accuracy: 0.0092 - val_loss: 0.5953 - val_accuracy: 0.0033\n",
      "Epoch 37/40\n",
      "100/100 [==============================] - 46s 459ms/step - loss: 0.5130 - accuracy: 0.0093 - val_loss: 0.5949 - val_accuracy: 0.0037\n",
      "Epoch 38/40\n",
      "100/100 [==============================] - 46s 461ms/step - loss: 0.5123 - accuracy: 0.0099 - val_loss: 0.5976 - val_accuracy: 0.0043\n",
      "Epoch 39/40\n",
      "100/100 [==============================] - 46s 462ms/step - loss: 0.5117 - accuracy: 0.0101 - val_loss: 0.6006 - val_accuracy: 0.0070\n",
      "Epoch 40/40\n",
      "100/100 [==============================] - 46s 462ms/step - loss: 0.5111 - accuracy: 0.0100 - val_loss: 0.5988 - val_accuracy: 0.0067\n"
     ]
    }
   ],
   "source": [
    "history = model.fit(\n",
    "    train_generator,\n",
    "    epochs=40,\n",
    "    steps_per_epoch=len(train_generator),\n",
    "    validation_data=test_generator\n",
    ")"
   ]
  },
  {
   "cell_type": "code",
   "execution_count": 13,
   "metadata": {},
   "outputs": [
    {
     "data": {
      "image/png": "[encoded data removed]",
      "text/plain": [
       "<Figure size 640x480 with 1 Axes>"
      ]
     },
     "metadata": {},
     "output_type": "display_data"
    }
   ],
   "source": [
    "# print(history.history[\"loss\"])\n",
    "plt.plot(range(40),history.history[\"loss\"][:130])\n",
    "plt.plot(range(40),history.history[\"val_loss\"][:130])\n",
    "plt.show()"
   ]
  },
  {
   "cell_type": "code",
   "execution_count": 63,
   "metadata": {},
   "outputs": [
    {
     "data": {
      "image/png": "[encoded data removed]",
      "text/plain": [
       "<Figure size 640x480 with 1 Axes>"
      ]
     },
     "metadata": {},
     "output_type": "display_data"
    }
   ],
   "source": [
    "# print(history.history[\"loss\"])\n",
    "plt.plot(range(40),history.history[\"loss\"][:130])\n",
    "plt.plot(range(40),history.history[\"val_loss\"][:130])\n",
    "plt.show()"
   ]
  },
  {
   "cell_type": "code",
   "execution_count": 26,
   "metadata": {},
   "outputs": [
    {
     "name": "stdout",
     "output_type": "stream",
     "text": [
      "(array([[1, 0, 1, 0, 0, 0, 0, 0, 1, 0, 0, 1, 0, 1, 1, 1, 1, 0, 1, 0, 0, 0,\n",
      "        1, 1, 1, 0, 0, 1, 0, 1, 1, 0, 1, 0, 1, 0, 1, 0, 1, 1, 1, 1, 0, 0,\n",
      "        0, 0, 0, 0, 1, 1, 0, 0, 1, 1, 0, 0, 1, 0, 1, 1, 1, 0, 0, 1, 1, 0,\n",
      "        0, 0, 1, 0, 1, 0, 1, 0, 0, 0, 0, 0, 1, 0, 1, 1, 1, 1, 0, 0, 1, 0,\n",
      "        0, 0, 1, 1, 1, 0, 1, 1, 0, 0, 1, 0, 0, 0, 0, 0, 1, 0, 0, 0, 1, 0,\n",
      "        0, 0, 0, 0, 1, 0, 1, 0, 1, 1, 1, 1, 1, 0, 0, 0, 1, 1, 0, 0, 1, 0,\n",
      "        0, 0, 1, 0, 0, 1, 0, 0, 1, 0, 1, 1, 1, 0, 1, 0, 1, 1, 0, 1, 1, 1,\n",
      "        1, 1, 1, 0, 0, 1]]), array([[0, 0, 0, 0, 0, 0, 0, 0, 0, 0, 0, 0, 0, 0, 0, 0, 0, 0, 0, 0, 0, 0,\n",
      "        0, 0, 0, 0, 0, 0, 0, 0, 0, 0, 0, 0, 0, 0, 0, 0, 0, 0, 0, 0, 0, 0,\n",
      "        0, 0, 0, 0, 0, 0, 0, 0, 0, 0, 0, 0, 0, 0, 0, 0, 0, 0, 0, 0, 0, 0,\n",
      "        0, 0, 0, 0, 0, 0, 0, 0, 0, 0, 0, 0, 0, 0, 0, 0, 0, 0, 0, 0, 0, 0,\n",
      "        0, 0, 0, 0, 0, 0, 0, 0, 0, 0, 0, 0, 1, 0, 0, 1, 0, 0, 0, 0, 1, 1,\n",
      "        1, 1, 0, 1, 1, 1, 1, 1, 0, 1, 0, 0, 1, 0, 1, 0, 1, 1, 0, 0, 1, 1,\n",
      "        0, 0, 1, 1, 0, 1, 1, 0, 0, 1, 1, 1, 0, 0, 1, 0, 0, 0, 0, 0, 1, 1,\n",
      "        0, 1, 1, 1, 0, 1, 0, 0, 1, 0, 0, 1, 0, 0, 0, 0, 1, 1, 1, 1, 0, 1,\n",
      "        0, 1, 0, 1, 0, 1, 0, 1, 1, 1, 0, 1, 1, 0, 0, 1, 1, 1, 0, 0, 0, 0,\n",
      "        1, 1, 1, 1, 0, 0, 1, 0, 0, 1, 0, 1, 0, 1, 0, 1, 1, 0, 1, 1, 1, 0,\n",
      "        1, 1, 1, 1, 1, 0, 0, 1, 0, 0, 0, 1, 0, 0, 0, 1, 0, 1, 0, 0, 1, 0,\n",
      "        1, 1, 0, 1, 0, 1, 0, 1, 0, 0, 0, 0, 0, 1]]))\n",
      "1/1 [==============================] - 0s 53ms/step\n"
     ]
    },
    {
     "name": "stderr",
     "output_type": "stream",
     "text": [
      "/tmp/ipykernel_58195/1138645872.py:23: DeprecationWarning: Seeding based on hashing is deprecated\n",
      "since Python 3.9 and will be removed in a subsequent version. The only \n",
      "supported seed types are: None, int, float, str, bytes, and bytearray.\n",
      "  random.seed(seed)\n"
     ]
    },
    {
     "data": {
      "text/plain": [
       "array([[0.        , 0.        , 0.        , 0.        , 0.        ,\n",
       "        0.        , 0.        , 0.        , 0.        , 0.        ,\n",
       "        0.        , 0.        , 0.        , 0.        , 0.        ,\n",
       "        0.        , 0.        , 0.        , 0.        , 0.        ,\n",
       "        0.        , 0.        , 0.        , 0.        , 0.        ,\n",
       "        0.        , 0.        , 0.        , 0.        , 0.        ,\n",
       "        0.        , 0.        , 0.        , 0.        , 0.        ,\n",
       "        0.        , 0.        , 0.        , 0.        , 0.        ,\n",
       "        0.        , 0.        , 0.        , 0.        , 0.        ,\n",
       "        0.        , 0.        , 0.        , 0.        , 0.        ,\n",
       "        0.        , 0.        , 0.        , 0.        , 0.        ,\n",
       "        0.        , 0.        , 0.        , 0.        , 0.        ,\n",
       "        0.        , 0.        , 0.        , 0.        , 0.        ,\n",
       "        0.        , 0.        , 0.        , 0.        , 0.        ,\n",
       "        0.        , 0.        , 0.        , 0.        , 0.        ,\n",
       "        0.        , 0.        , 0.        , 0.        , 0.        ,\n",
       "        0.        , 0.        , 0.        , 0.        , 0.        ,\n",
       "        0.        , 0.        , 0.        , 0.        , 0.        ,\n",
       "        0.        , 0.        , 0.        , 0.        , 0.        ,\n",
       "        0.        , 0.        , 0.        , 0.        , 0.        ,\n",
       "        0.4400704 , 0.45844424, 0.68541   , 0.607007  , 0.61258185,\n",
       "        0.5324971 , 0.7047428 , 0.5648303 , 0.63849753, 0.49782073,\n",
       "        0.44924748, 0.5083978 , 0.57070976, 0.40559632, 0.6324634 ,\n",
       "        0.43688613, 0.6373002 , 0.25768954, 0.22410485, 0.4539007 ,\n",
       "        0.31686562, 0.5460453 , 0.49483627, 0.45108855, 0.63876677,\n",
       "        0.48930296, 0.58355194, 0.55078787, 0.3804462 , 0.37656152,\n",
       "        0.51785177, 0.41484946, 0.4874977 , 0.5228089 , 0.5264954 ,\n",
       "        0.5087267 , 0.34676838, 0.40768155, 0.6510597 , 0.5793547 ,\n",
       "        0.533153  , 0.56134677, 0.47675607, 0.5601609 , 0.4778728 ,\n",
       "        0.46585828, 0.7004279 , 0.50056255, 0.5196371 , 0.5250646 ,\n",
       "        0.54560155, 0.5801204 , 0.58291936, 0.6263424 , 0.32734308,\n",
       "        0.6061553 , 0.4604571 , 0.7329728 , 0.5355577 , 0.6887164 ,\n",
       "        0.65414196, 0.5776632 , 0.32182992, 0.4635144 , 0.32727548,\n",
       "        0.60747147, 0.6323372 , 0.38066608, 0.5616194 , 0.46482864,\n",
       "        0.6334282 , 0.4882684 , 0.5911388 , 0.45581967, 0.5039906 ,\n",
       "        0.4615906 , 0.6988934 , 0.9020953 , 0.46121058, 0.4961273 ,\n",
       "        0.46026433, 0.5535691 , 0.49480784, 0.44219643, 0.5144941 ,\n",
       "        0.5211498 , 0.65761876, 0.5181967 , 0.46889603, 0.63169914,\n",
       "        0.39748764, 0.51811016, 0.61270994, 0.6266918 , 0.44854486,\n",
       "        0.47086158, 0.4708978 , 0.5375641 , 0.49282598, 0.44261196,\n",
       "        0.48281422, 0.59453464, 0.41340095, 0.54433703, 0.5050763 ,\n",
       "        0.4693342 , 0.3646111 , 0.4544295 , 0.5359942 , 0.42763352,\n",
       "        0.37644166, 0.5319278 , 0.4515441 , 0.542272  , 0.53807676,\n",
       "        0.55764925, 0.46930972, 0.5129572 , 0.4543472 , 0.2955053 ,\n",
       "        0.52508104, 0.5771784 , 0.5836262 , 0.6961967 , 0.70040643,\n",
       "        0.5795058 , 0.47826022, 0.47833055, 0.4533601 , 0.5774612 ,\n",
       "        0.6417229 , 0.6102996 , 0.64849687, 0.4592734 , 0.42232957,\n",
       "        0.5090396 , 0.46708733, 0.643818  , 0.40041417, 0.4396482 ,\n",
       "        0.5030036 , 0.33806276, 0.40996873, 0.4702632 , 0.5222579 ,\n",
       "        0.5021687 , 0.365082  , 0.41886777, 0.49429983, 0.6135659 ,\n",
       "        0.5569671 , 0.4291904 , 0.4904859 , 0.39372092, 0.42166847,\n",
       "        0.51773834]], dtype=float32)"
      ]
     },
     "execution_count": 26,
     "metadata": {},
     "output_type": "execute_result"
    }
   ],
   "source": [
    "print(train_generator[0])\n",
    "model.predict(train_generator[0][0])"
   ]
  },
  {
   "cell_type": "code",
   "execution_count": null,
   "metadata": {},
   "outputs": [],
   "source": []
  }
 ],
 "metadata": {
  "kernelspec": {
   "display_name": "tensor",
   "language": "python",
   "name": "python3"
  },
  "language_info": {
   "codemirror_mode": {
    "name": "ipython",
    "version": 3
   },
   "file_extension": ".py",
   "mimetype": "text/x-python",
   "name": "python",
   "nbconvert_exporter": "python",
   "pygments_lexer": "ipython3",
   "version": "3.10.14"
  }
 },
 "nbformat": 4,
 "nbformat_minor": 2
}
